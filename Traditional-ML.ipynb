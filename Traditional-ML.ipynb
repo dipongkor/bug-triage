{
 "cells": [
  {
   "cell_type": "code",
   "execution_count": 103,
   "metadata": {},
   "outputs": [],
   "source": [
    "import pandas as pd\n",
    "from sklearn.feature_extraction.text import TfidfVectorizer\n",
    "import numpy as np\n",
    "from sklearn.decomposition import TruncatedSVD\n",
    "from sklearn.model_selection import StratifiedKFold\n",
    "import matplotlib.pyplot as plt\n",
    "import json\n",
    "from sklearn.naive_bayes import GaussianNB\n",
    "from sklearn.svm import SVC\n",
    "from sklearn.ensemble import RandomForestClassifier\n",
    "import xgboost as xgb\n",
    "from sklearn.preprocessing import LabelEncoder\n",
    "from keras.utils import np_utils\n",
    "import tensorflow as tf\n",
    "from keras import backend as K"
   ]
  },
  {
   "cell_type": "code",
   "execution_count": 104,
   "metadata": {},
   "outputs": [],
   "source": [
    "import sklearn as sk"
   ]
  },
  {
   "cell_type": "code",
   "execution_count": 106,
   "metadata": {},
   "outputs": [],
   "source": [
    "df = pd.read_csv('../Dataset/jdt_data_cleaned.csv')"
   ]
  },
  {
   "cell_type": "code",
   "execution_count": 107,
   "metadata": {},
   "outputs": [
    {
     "data": {
      "text/html": [
       "<div>\n",
       "<style scoped>\n",
       "    .dataframe tbody tr th:only-of-type {\n",
       "        vertical-align: middle;\n",
       "    }\n",
       "\n",
       "    .dataframe tbody tr th {\n",
       "        vertical-align: top;\n",
       "    }\n",
       "\n",
       "    .dataframe thead th {\n",
       "        text-align: right;\n",
       "    }\n",
       "</style>\n",
       "<table border=\"1\" class=\"dataframe\">\n",
       "  <thead>\n",
       "    <tr style=\"text-align: right;\">\n",
       "      <th></th>\n",
       "      <th>bug_id</th>\n",
       "      <th>creation_ts</th>\n",
       "      <th>Assignee</th>\n",
       "      <th>Description</th>\n",
       "      <th>text</th>\n",
       "      <th>words</th>\n",
       "    </tr>\n",
       "  </thead>\n",
       "  <tbody>\n",
       "    <tr>\n",
       "      <th>0</th>\n",
       "      <td>9790.0</td>\n",
       "      <td>2/13/2002 16:42</td>\n",
       "      <td>Olivier_Thomann</td>\n",
       "      <td>Add constructors from superclass inserts in wr...</td>\n",
       "      <td>add constructors from superclass inserts in wr...</td>\n",
       "      <td>78</td>\n",
       "    </tr>\n",
       "    <tr>\n",
       "      <th>1</th>\n",
       "      <td>15684.0</td>\n",
       "      <td>5/9/2002 17:54</td>\n",
       "      <td>daniel_megert</td>\n",
       "      <td>Invalid Menu Extension on search pages 508Foll...</td>\n",
       "      <td>invalid menu extension on search pages followi...</td>\n",
       "      <td>85</td>\n",
       "    </tr>\n",
       "    <tr>\n",
       "      <th>2</th>\n",
       "      <td>21904.0</td>\n",
       "      <td>7/25/2002 10:35</td>\n",
       "      <td>daniel_megert</td>\n",
       "      <td>[misc] Can't Ctrl+C copy from class file edito...</td>\n",
       "      <td>misc cant ctrlc copy from class file editor wi...</td>\n",
       "      <td>66</td>\n",
       "    </tr>\n",
       "    <tr>\n",
       "      <th>3</th>\n",
       "      <td>45408.0</td>\n",
       "      <td>10/22/2003 14:49</td>\n",
       "      <td>markus.kell.r</td>\n",
       "      <td>Enable assertions during unit tests [JUnit] As...</td>\n",
       "      <td>enable assertions during unit tests junit as u...</td>\n",
       "      <td>66</td>\n",
       "    </tr>\n",
       "    <tr>\n",
       "      <th>4</th>\n",
       "      <td>45507.0</td>\n",
       "      <td>10/24/2003 10:49</td>\n",
       "      <td>sarika.sinha</td>\n",
       "      <td>[evaluation] cannot access inner class fields ...</td>\n",
       "      <td>evaluation cannot access inner class fields in...</td>\n",
       "      <td>91</td>\n",
       "    </tr>\n",
       "  </tbody>\n",
       "</table>\n",
       "</div>"
      ],
      "text/plain": [
       "    bug_id       creation_ts         Assignee  \\\n",
       "0   9790.0   2/13/2002 16:42  Olivier_Thomann   \n",
       "1  15684.0    5/9/2002 17:54    daniel_megert   \n",
       "2  21904.0   7/25/2002 10:35    daniel_megert   \n",
       "3  45408.0  10/22/2003 14:49    markus.kell.r   \n",
       "4  45507.0  10/24/2003 10:49     sarika.sinha   \n",
       "\n",
       "                                         Description  \\\n",
       "0  Add constructors from superclass inserts in wr...   \n",
       "1  Invalid Menu Extension on search pages 508Foll...   \n",
       "2  [misc] Can't Ctrl+C copy from class file edito...   \n",
       "3  Enable assertions during unit tests [JUnit] As...   \n",
       "4  [evaluation] cannot access inner class fields ...   \n",
       "\n",
       "                                                text  words  \n",
       "0  add constructors from superclass inserts in wr...     78  \n",
       "1  invalid menu extension on search pages followi...     85  \n",
       "2  misc cant ctrlc copy from class file editor wi...     66  \n",
       "3  enable assertions during unit tests junit as u...     66  \n",
       "4  evaluation cannot access inner class fields in...     91  "
      ]
     },
     "execution_count": 107,
     "metadata": {},
     "output_type": "execute_result"
    }
   ],
   "source": [
    "df.head()"
   ]
  },
  {
   "cell_type": "code",
   "execution_count": 108,
   "metadata": {},
   "outputs": [],
   "source": [
    "df = df[df['text'].notnull()]"
   ]
  },
  {
   "cell_type": "code",
   "execution_count": 109,
   "metadata": {},
   "outputs": [],
   "source": [
    "label_name = 'Assignee'"
   ]
  },
  {
   "cell_type": "code",
   "execution_count": 110,
   "metadata": {},
   "outputs": [],
   "source": [
    "unique_developers = df[label_name].unique()\n",
    "developer_dict = {}\n",
    "for idx, developer in enumerate(unique_developers, start = 1):\n",
    "  developer_dict[developer] = idx"
   ]
  },
  {
   "cell_type": "code",
   "execution_count": 111,
   "metadata": {},
   "outputs": [],
   "source": [
    "df[label_name] = df[label_name].astype(str).map(developer_dict)"
   ]
  },
  {
   "cell_type": "code",
   "execution_count": 112,
   "metadata": {},
   "outputs": [],
   "source": [
    "X = df['text'].values"
   ]
  },
  {
   "cell_type": "code",
   "execution_count": 113,
   "metadata": {},
   "outputs": [],
   "source": [
    "n_components = 800"
   ]
  },
  {
   "cell_type": "code",
   "execution_count": 114,
   "metadata": {},
   "outputs": [],
   "source": [
    "Y = df[label_name].values"
   ]
  },
  {
   "cell_type": "code",
   "execution_count": 115,
   "metadata": {},
   "outputs": [],
   "source": [
    "encoder = LabelEncoder()\n",
    "encoder.fit(Y)\n",
    "encoded_Y = encoder.transform(Y)"
   ]
  },
  {
   "cell_type": "code",
   "execution_count": 116,
   "metadata": {},
   "outputs": [],
   "source": [
    "Y_encoded = np_utils.to_categorical(encoded_Y)"
   ]
  },
  {
   "cell_type": "code",
   "execution_count": 117,
   "metadata": {},
   "outputs": [],
   "source": [
    "def top_k_categorical_accuracy(y_true, y_pred, k=5):\n",
    "    return K.mean(K.in_top_k(y_pred, K.argmax(y_true, axis=-1), k))"
   ]
  },
  {
   "cell_type": "code",
   "execution_count": 118,
   "metadata": {},
   "outputs": [],
   "source": [
    "kfold = StratifiedKFold(n_splits=10, shuffle=True, random_state=101)\n",
    "svm_cvscores = []\n",
    "rf_cvscores = []\n",
    "nb_cvscores = []"
   ]
  },
  {
   "cell_type": "code",
   "execution_count": 119,
   "metadata": {
    "scrolled": false
   },
   "outputs": [],
   "source": [
    "for train, test in kfold.split(X, Y):\n",
    "    x_train = X[train]\n",
    "    x_test = X[test]\n",
    "    \n",
    "    y_train = Y_encoded[train]\n",
    "    y_test = Y_encoded[test]\n",
    "    \n",
    "    #TF-IDF Vectorizer\n",
    "    vectorizer = TfidfVectorizer(tokenizer= lambda x: x.split(' ') , ngram_range=(1, 2), dtype=np.float32)\n",
    "    \n",
    "    train_tfidf = vectorizer.fit_transform(x_train)\n",
    "    \n",
    "    test_tfidf = vectorizer.transform(x_test)\n",
    "    \n",
    "    svd = TruncatedSVD(n_components=n_components, algorithm='arpack')\n",
    "    \n",
    "    train_svd = svd.fit_transform(train_tfidf)\n",
    "    \n",
    "    test_svd = svd.transform(test_tfidf)\n",
    "    \n",
    "    #SVM\n",
    "    svmModel = SVC(kernel='linear', probability=True)\n",
    "    svmModel.fit(train_svd, Y[train])\n",
    "    smv_y_pred = svmModel.predict_proba(test_svd)\n",
    "\n",
    "    svm_top_accuracies = []\n",
    "\n",
    "    for i in range(10):\n",
    "        acc = top_k_categorical_accuracy(y_test, smv_y_pred, k=i+1)\n",
    "        svm_top_accuracies.append(acc.numpy())\n",
    "\n",
    "    svm_cvscores.append(svm_top_accuracies)\n",
    "    \n",
    "    #RF\n",
    "    rfModel = RandomForestClassifier(n_estimators=200)\n",
    "    rfModel.fit(train_svd, Y[train])\n",
    "    \n",
    "    rf_y_pred = rfModel.predict_proba(test_svd)\n",
    "    rf_top_accuracies = []\n",
    "    for i in range(10):\n",
    "        acc = top_k_categorical_accuracy(y_test, rf_y_pred, k=i+1)\n",
    "        rf_top_accuracies.append(acc.numpy())\n",
    "\n",
    "    rf_cvscores.append(rf_top_accuracies)\n",
    "    \n",
    "    #NB\n",
    "    nbModel = GaussianNB()\n",
    "    nbModel.fit(train_svd, Y[train])\n",
    "    nb_y_pred = nbModel.predict_proba(test_svd)\n",
    "    nb_top_accuracies = []\n",
    "    for i in range(10):\n",
    "        acc = top_k_categorical_accuracy(y_test, nb_y_pred, k=i+1)\n",
    "        nb_top_accuracies.append(acc.numpy())\n",
    "\n",
    "    nb_cvscores.append(nb_top_accuracies)"
   ]
  },
  {
   "cell_type": "code",
   "execution_count": 1,
   "metadata": {},
   "outputs": [],
   "source": [
    "print(f'SVM: {np.array(svm_cvscores).sum(axis=0)/10}')\n",
    "print(f'RF: {np.array(rf_cvscores).sum(axis=0)/10}')\n",
    "print(f'NB: {np.array(nb_cvscores).sum(axis=0)/10}')"
   ]
  },
  {
   "cell_type": "code",
   "execution_count": null,
   "metadata": {},
   "outputs": [],
   "source": []
  }
 ],
 "metadata": {
  "kernelspec": {
   "display_name": "Python 3",
   "language": "python",
   "name": "python3"
  },
  "language_info": {
   "codemirror_mode": {
    "name": "ipython",
    "version": 3
   },
   "file_extension": ".py",
   "mimetype": "text/x-python",
   "name": "python",
   "nbconvert_exporter": "python",
   "pygments_lexer": "ipython3",
   "version": "3.8.5"
  }
 },
 "nbformat": 4,
 "nbformat_minor": 4
}
