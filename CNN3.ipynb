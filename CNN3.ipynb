{
 "cells": [
  {
   "cell_type": "code",
   "execution_count": 1,
   "metadata": {},
   "outputs": [],
   "source": [
    "import pandas as pd\n",
    "from sklearn.feature_extraction.text import TfidfVectorizer\n",
    "import numpy as np\n",
    "from sklearn.decomposition import TruncatedSVD\n",
    "from keras.utils import np_utils\n",
    "from sklearn.preprocessing import LabelEncoder\n",
    "import tensorflow as tf\n",
    "from keras.metrics import TopKCategoricalAccuracy\n",
    "from sklearn.model_selection import StratifiedKFold\n",
    "from losses import categorical_focal_loss\n",
    "from plot_keras_history import plot_history\n",
    "import matplotlib.pyplot as plt\n",
    "import json\n",
    "from keras.preprocessing.text import Tokenizer\n",
    "from keras.preprocessing.sequence import pad_sequences\n",
    "from keras.models import Model\n",
    "from keras.layers import Dense, Embedding, Input, Flatten\n",
    "from keras.optimizers import Adam\n",
    "from keras.layers.convolutional import Conv1D, MaxPooling1D\n",
    "from keras.layers.merge import concatenate\n",
    "from keras.metrics import TopKCategoricalAccuracy\n",
    "from keras import regularizers"
   ]
  },
  {
   "cell_type": "code",
   "execution_count": 2,
   "metadata": {},
   "outputs": [],
   "source": [
    "df = pd.read_csv('../Dataset/google_choromium_cleaned.csv')"
   ]
  },
  {
   "cell_type": "code",
   "execution_count": 3,
   "metadata": {},
   "outputs": [
    {
     "data": {
      "text/html": [
       "<div>\n",
       "<style scoped>\n",
       "    .dataframe tbody tr th:only-of-type {\n",
       "        vertical-align: middle;\n",
       "    }\n",
       "\n",
       "    .dataframe tbody tr th {\n",
       "        vertical-align: top;\n",
       "    }\n",
       "\n",
       "    .dataframe thead th {\n",
       "        text-align: right;\n",
       "    }\n",
       "</style>\n",
       "<table border=\"1\" class=\"dataframe\">\n",
       "  <thead>\n",
       "    <tr style=\"text-align: right;\">\n",
       "      <th></th>\n",
       "      <th>id</th>\n",
       "      <th>issue_id</th>\n",
       "      <th>Summary</th>\n",
       "      <th>reported_time</th>\n",
       "      <th>Assignee</th>\n",
       "      <th>Description</th>\n",
       "      <th>text</th>\n",
       "      <th>words</th>\n",
       "    </tr>\n",
       "  </thead>\n",
       "  <tbody>\n",
       "    <tr>\n",
       "      <th>0</th>\n",
       "      <td>5</td>\n",
       "      <td>7</td>\n",
       "      <td>Errors in importing from firefox</td>\n",
       "      <td>2008-09-02 19:08:46</td>\n",
       "      <td>venkataramana@chromium.org</td>\n",
       "      <td>\\nproduct version       0214927\\r\\nurls if app...</td>\n",
       "      <td>errors in importing from firefox. product vers...</td>\n",
       "      <td>100</td>\n",
       "    </tr>\n",
       "    <tr>\n",
       "      <th>1</th>\n",
       "      <td>16</td>\n",
       "      <td>18</td>\n",
       "      <td>Wishlist: Chrome does not have an addon-system</td>\n",
       "      <td>2008-09-02 19:22:41</td>\n",
       "      <td>aa@chromium.org</td>\n",
       "      <td>\\nproduct version       all\\r\\nurls if applica...</td>\n",
       "      <td>wishlist chrome does not have an addonsystem. ...</td>\n",
       "      <td>95</td>\n",
       "    </tr>\n",
       "    <tr>\n",
       "      <th>2</th>\n",
       "      <td>17</td>\n",
       "      <td>19</td>\n",
       "      <td>Automatic integrated windows authentication (a...</td>\n",
       "      <td>2008-09-02 19:22:46</td>\n",
       "      <td>cbentzel@chromium.org</td>\n",
       "      <td>\\nproduct version       0214927\\r\\nurls if app...</td>\n",
       "      <td>automatic integrated windows authentication ak...</td>\n",
       "      <td>131</td>\n",
       "    </tr>\n",
       "    <tr>\n",
       "      <th>3</th>\n",
       "      <td>19</td>\n",
       "      <td>21</td>\n",
       "      <td>Facebook: Commenting on Status not working</td>\n",
       "      <td>2008-09-02 19:24:29</td>\n",
       "      <td>eroman@chromium.org</td>\n",
       "      <td>\\nproduct version       see aboutversion\\r\\nur...</td>\n",
       "      <td>facebook commenting on status not working. pro...</td>\n",
       "      <td>82</td>\n",
       "    </tr>\n",
       "    <tr>\n",
       "      <th>4</th>\n",
       "      <td>27</td>\n",
       "      <td>31</td>\n",
       "      <td>\"Become a fan\" on facebook does not work</td>\n",
       "      <td>2008-09-02 19:30:10</td>\n",
       "      <td>eroman@chromium.org</td>\n",
       "      <td>\\nproduct version       see aboutversion\\r\\nur...</td>\n",
       "      <td>become fan on facebook does not work. product ...</td>\n",
       "      <td>88</td>\n",
       "    </tr>\n",
       "  </tbody>\n",
       "</table>\n",
       "</div>"
      ],
      "text/plain": [
       "   id  issue_id                                            Summary  \\\n",
       "0   5         7                   Errors in importing from firefox   \n",
       "1  16        18     Wishlist: Chrome does not have an addon-system   \n",
       "2  17        19  Automatic integrated windows authentication (a...   \n",
       "3  19        21         Facebook: Commenting on Status not working   \n",
       "4  27        31           \"Become a fan\" on facebook does not work   \n",
       "\n",
       "         reported_time                    Assignee  \\\n",
       "0  2008-09-02 19:08:46  venkataramana@chromium.org   \n",
       "1  2008-09-02 19:22:41             aa@chromium.org   \n",
       "2  2008-09-02 19:22:46       cbentzel@chromium.org   \n",
       "3  2008-09-02 19:24:29         eroman@chromium.org   \n",
       "4  2008-09-02 19:30:10         eroman@chromium.org   \n",
       "\n",
       "                                         Description  \\\n",
       "0  \\nproduct version       0214927\\r\\nurls if app...   \n",
       "1  \\nproduct version       all\\r\\nurls if applica...   \n",
       "2  \\nproduct version       0214927\\r\\nurls if app...   \n",
       "3  \\nproduct version       see aboutversion\\r\\nur...   \n",
       "4  \\nproduct version       see aboutversion\\r\\nur...   \n",
       "\n",
       "                                                text  words  \n",
       "0  errors in importing from firefox. product vers...    100  \n",
       "1  wishlist chrome does not have an addonsystem. ...     95  \n",
       "2  automatic integrated windows authentication ak...    131  \n",
       "3  facebook commenting on status not working. pro...     82  \n",
       "4  become fan on facebook does not work. product ...     88  "
      ]
     },
     "execution_count": 3,
     "metadata": {},
     "output_type": "execute_result"
    }
   ],
   "source": [
    "df.head()"
   ]
  },
  {
   "cell_type": "code",
   "execution_count": 4,
   "metadata": {},
   "outputs": [],
   "source": [
    "df = df[df['text'].notnull()]"
   ]
  },
  {
   "cell_type": "code",
   "execution_count": 5,
   "metadata": {},
   "outputs": [],
   "source": [
    "label_name = 'Assignee'"
   ]
  },
  {
   "cell_type": "code",
   "execution_count": 6,
   "metadata": {},
   "outputs": [],
   "source": [
    "unique_developers = df[label_name].unique()\n",
    "developer_dict = {}\n",
    "for idx, developer in enumerate(unique_developers, start = 1):\n",
    "  developer_dict[developer] = idx"
   ]
  },
  {
   "cell_type": "code",
   "execution_count": 7,
   "metadata": {},
   "outputs": [],
   "source": [
    "df[label_name] = df[label_name].astype(str).map(developer_dict)"
   ]
  },
  {
   "cell_type": "code",
   "execution_count": 8,
   "metadata": {},
   "outputs": [],
   "source": [
    "ann_components = 1100"
   ]
  },
  {
   "cell_type": "code",
   "execution_count": 9,
   "metadata": {},
   "outputs": [],
   "source": [
    "X = df['text'].values\n",
    "Y = df[label_name].values"
   ]
  },
  {
   "cell_type": "code",
   "execution_count": 10,
   "metadata": {},
   "outputs": [],
   "source": [
    "encoder = LabelEncoder()\n",
    "encoder.fit(Y)\n",
    "encoded_Y = encoder.transform(Y)"
   ]
  },
  {
   "cell_type": "code",
   "execution_count": 11,
   "metadata": {},
   "outputs": [],
   "source": [
    "Y_encoded = np_utils.to_categorical(encoded_Y)"
   ]
  },
  {
   "cell_type": "code",
   "execution_count": 12,
   "metadata": {},
   "outputs": [],
   "source": [
    "EMBEDDING_DIM = 300"
   ]
  },
  {
   "cell_type": "code",
   "execution_count": 13,
   "metadata": {},
   "outputs": [],
   "source": [
    "metrics = [TopKCategoricalAccuracy(i+1, name=f'{i+1}') for i in range(10)]"
   ]
  },
  {
   "cell_type": "code",
   "execution_count": 14,
   "metadata": {},
   "outputs": [],
   "source": [
    "alpha = np.full(df[label_name].nunique(), 0.25)\n",
    "loss = [categorical_focal_loss(alpha=[alpha], gamma=2)]"
   ]
  },
  {
   "cell_type": "code",
   "execution_count": 15,
   "metadata": {},
   "outputs": [],
   "source": [
    "def cnn3_model(summary, vocab_size, MAX_SEQUENCE_LENGTH):\n",
    "    input1 = Input(shape=(MAX_SEQUENCE_LENGTH,))\n",
    "    \n",
    "    #CNN3\n",
    "    embed3 = Embedding(vocab_size, EMBEDDING_DIM, input_length=MAX_SEQUENCE_LENGTH)(input1)\n",
    "    cnv3 = Conv1D(256, 3, activation=\"relu\")(embed3)\n",
    "    pool3 = MaxPooling1D(int(MAX_SEQUENCE_LENGTH * 0.2))(cnv3)\n",
    "    flat3 = Flatten()(pool3)\n",
    "    \n",
    "    dense2 = Dense(1024, activation=\"relu\")(flat3)\n",
    "    \n",
    "    outputs = Dense(df[label_name].nunique(), activation='softmax')(dense2)\n",
    "    \n",
    "    model = Model(inputs=input1, outputs=outputs)\n",
    "    \n",
    "    model.compile(loss=loss, optimizer='rmsprop', metrics=metrics)\n",
    "    \n",
    "    if summary==True:\n",
    "        print(model.summary())\n",
    "\n",
    "    return model"
   ]
  },
  {
   "cell_type": "code",
   "execution_count": 16,
   "metadata": {},
   "outputs": [],
   "source": [
    "kfold = StratifiedKFold(n_splits=10, shuffle=True, random_state=101)\n",
    "cvscores = []\n",
    "histories = []\n",
    "miss_classified = []\n",
    "fold_no = 1"
   ]
  },
  {
   "cell_type": "code",
   "execution_count": 1,
   "metadata": {
    "scrolled": true
   },
   "outputs": [],
   "source": [
    "for train, test in kfold.split(X, Y):\n",
    "    \n",
    "    x_train = X[train]\n",
    "    x_test = X[test]\n",
    "    \n",
    "    y_train = Y_encoded[train]\n",
    "    y_test = Y_encoded[test]\n",
    "    \n",
    "    #Tokenizing & Padding\n",
    "    tokenizer = Tokenizer(oov_token=True)\n",
    "    tokenizer.fit_on_texts(x_train)\n",
    "    vocab_size = len(tokenizer.word_index) + 1\n",
    "    train_seq = tokenizer.texts_to_sequences(x_train)\n",
    "    test_seq = tokenizer.texts_to_sequences(x_test)\n",
    "    MAX_SEQUENCE_LENGTH = max([len(s) for s in train_seq])\n",
    "    train_cnn = pad_sequences(train_seq, maxlen=MAX_SEQUENCE_LENGTH, padding='post')\n",
    "    test_cnn = pad_sequences(test_seq, maxlen=MAX_SEQUENCE_LENGTH, padding='post')\n",
    "    \n",
    "    #Model Traing\n",
    "    model = cnn3_model(False, vocab_size, MAX_SEQUENCE_LENGTH)\n",
    "    history = model.fit(train_cnn, y_train, epochs=5, validation_data = (test_cnn, y_test), batch_size=32, verbose=0).history\n",
    "    \n",
    "    #Training History\n",
    "    pred = model.predict(test_cnn) \n",
    "    actual_developers = np.argmax(y_test, axis=-1)\n",
    "    train_developers =  np.argmax(y_train, axis=-1)\n",
    "    pred_developers = np.argmax(pred, axis=-1)\n",
    "    miss = {'fold': fold_no, 'train_documents': train, 'train_developers': train_developers ,'test_documents': test, 'test_developers': actual_developers, 'pred_developers': pred_developers}\n",
    "    miss_classified.append(miss)\n",
    "    histories.append(history)\n",
    "    fold_no = fold_no + 1\n",
    "    \n",
    "    #Scores\n",
    "    scores = model.evaluate(test_cnn, y_test, batch_size=32, verbose=1)\n",
    "    cvscores.append(scores[1:])\n",
    "    del model"
   ]
  },
  {
   "cell_type": "code",
   "execution_count": 18,
   "metadata": {},
   "outputs": [
    {
     "data": {
      "text/plain": [
       "array([0.14382672, 0.22032491, 0.27191336, 0.31292419, 0.34498194,\n",
       "       0.37191336, 0.39425993, 0.41382671, 0.43187725, 0.44873646])"
      ]
     },
     "execution_count": 18,
     "metadata": {},
     "output_type": "execute_result"
    }
   ],
   "source": [
    "np.array(cvscores).sum(axis=0)/10"
   ]
  },
  {
   "cell_type": "code",
   "execution_count": 19,
   "metadata": {},
   "outputs": [],
   "source": [
    "for item in miss_classified:\n",
    "    for key in item.keys():\n",
    "        if isinstance(item[key], np.ndarray):\n",
    "            item[key] = item[key].tolist()"
   ]
  },
  {
   "cell_type": "code",
   "execution_count": 20,
   "metadata": {},
   "outputs": [],
   "source": [
    "history_dic = {}"
   ]
  },
  {
   "cell_type": "code",
   "execution_count": 21,
   "metadata": {},
   "outputs": [],
   "source": [
    "for item in histories:\n",
    "    for key in item.keys():\n",
    "        if key in history_dic.keys():\n",
    "            history_dic[key] = history_dic[key] + np.array(item[key])\n",
    "        else:\n",
    "            history_dic[key] = np.array(item[key])"
   ]
  },
  {
   "cell_type": "code",
   "execution_count": 2,
   "metadata": {},
   "outputs": [],
   "source": [
    "plot_history(history_dic)\n",
    "plt.show()"
   ]
  },
  {
   "cell_type": "code",
   "execution_count": 23,
   "metadata": {},
   "outputs": [],
   "source": [
    "def convert(o):\n",
    "    if isinstance(o, np.int64): return int(o)  \n",
    "    raise TypeError"
   ]
  },
  {
   "cell_type": "code",
   "execution_count": 24,
   "metadata": {},
   "outputs": [],
   "source": [
    "for key in history_dic.keys():\n",
    "    history_dic[key] = history_dic[key].tolist()"
   ]
  },
  {
   "cell_type": "code",
   "execution_count": 25,
   "metadata": {},
   "outputs": [],
   "source": [
    "with open('cnn3_history.json', mode='w') as history_file:\n",
    "    json.dump(history_dic, history_file)"
   ]
  },
  {
   "cell_type": "code",
   "execution_count": 26,
   "metadata": {},
   "outputs": [],
   "source": [
    "with open('cnn3_classification_report.json', 'w') as report_file:\n",
    "  json.dump(miss_classified, report_file, default=convert)"
   ]
  }
 ],
 "metadata": {
  "kernelspec": {
   "display_name": "Python 3",
   "language": "python",
   "name": "python3"
  },
  "language_info": {
   "codemirror_mode": {
    "name": "ipython",
    "version": 3
   },
   "file_extension": ".py",
   "mimetype": "text/x-python",
   "name": "python",
   "nbconvert_exporter": "python",
   "pygments_lexer": "ipython3",
   "version": "3.8.5"
  }
 },
 "nbformat": 4,
 "nbformat_minor": 4
}
